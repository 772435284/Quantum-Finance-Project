{
 "cells": [
  {
   "cell_type": "markdown",
   "metadata": {},
   "source": [
    "## Import Libiray "
   ]
  },
  {
   "cell_type": "code",
   "execution_count": 2,
   "metadata": {},
   "outputs": [],
   "source": [
    "import pandas as pd\n",
    "import numpy as np\n",
    "import math\n",
    "import torch\n",
    "import torch.nn as nn\n",
    "from torch.autograd import Variable\n",
    "import matplotlib.pyplot as plt\n"
   ]
  },
  {
   "cell_type": "markdown",
   "metadata": {},
   "source": [
    "## Define Parameters "
   ]
  },
  {
   "cell_type": "code",
   "execution_count": 3,
   "metadata": {},
   "outputs": [],
   "source": [
    "product_list = ['AUDUSD','AUDCHF','AUDCAD','NZDCHF','USDCHF','NZDCAD','EURCHF','AUDNZD','USDCAD','GBPNZD']\n",
    "\n",
    "para_num = 4\n",
    "ts_data_save = 'TS_data/'\n",
    "model_save = 'cnn_model_save/'\n",
    "\n",
    "\n",
    "# Hyper parameters\n",
    "EPOCH = 10000\n",
    "learning_rate = 1e-2\n",
    "\n",
    "# Network Parameters\n",
    "CNN_input_dim = 1\n",
    "CNN_ouput_dim = 4\n",
    "\n",
    "train_ratio = 0.8"
   ]
  },
  {
   "cell_type": "markdown",
   "metadata": {},
   "source": [
    "## DataLoader"
   ]
  },
  {
   "cell_type": "code",
   "execution_count": 4,
   "metadata": {
    "scrolled": true
   },
   "outputs": [],
   "source": [
    "ts_d = pd.read_csv(ts_data_save+'AUDUSD1440_Data.csv')\n",
    "data = np.zeros((len(ts_d),CNN_input_dim, len(product_list),CNN_ouput_dim ), dtype=float)\n",
    "for k in range(len(product_list)):\n",
    "    product = product_list[k]\n",
    "\n",
    "    ts_d = pd.read_csv(ts_data_save+product+'1440_Data.csv')\n",
    "    ts_d = ts_d.dropna(axis=0,how='any')\n",
    "    ts_d = ts_d.drop(['Date','Year','Month','Day','Hour','Minute','Volume','RSI','MACD_M','MACD_S','STO_K','STO_D'],axis=1)\n",
    "    ts_d = ts_d.iloc[:,:].values\n",
    "    \n",
    "    for i in range(len(ts_d)):\n",
    "        temp = np.zeros((len(product_list),para_num))\n",
    "        #temp = np.zeros((para_num))\n",
    "        temp = ts_d[i]\n",
    "        data[i][0][k] = temp\n",
    "\n",
    "# The save name is the first product\n",
    "product = product_list[0]"
   ]
  },
  {
   "cell_type": "code",
   "execution_count": 5,
   "metadata": {},
   "outputs": [
    {
     "name": "stdout",
     "output_type": "stream",
     "text": [
      "torch.Size([1600, 1, 10, 4])\n",
      "Finish Loading........\n",
      "training data: 1600 test_data: 1600\n"
     ]
    }
   ],
   "source": [
    "\n",
    "ts_d_len = len(ts_d)\n",
    "train_num = math.ceil(train_ratio*ts_d_len)\n",
    "test_num = math.ceil(train_ratio*ts_d_len)\n",
    "# Use index to assign value to Train data and Test data\n",
    "train_data = data[0:train_num]\n",
    "test_data = data[train_num: ts_d_len]\n",
    "# Load the data into training set\n",
    "train_X = np.zeros((train_num,CNN_input_dim, len(product_list),CNN_ouput_dim), dtype=float)\n",
    "train_Y = np.zeros((train_num, CNN_ouput_dim), dtype=float)\n",
    "\n",
    "for i in range(train_num):\n",
    "    train_X[i] = train_data[i]\n",
    "    \n",
    "for i in range(train_num):\n",
    "    train_Y[i] = train_data[i][0][0]\n",
    "\n",
    "# Load the data into testing set\n",
    "test_X = np.zeros((test_num, CNN_input_dim, len(product_list),CNN_ouput_dim), dtype=float)\n",
    "test_Y = np.zeros((test_num, CNN_ouput_dim), dtype=float)\n",
    "for i in range(test_num):\n",
    "    test_X[i] = train_data[i]\n",
    "    \n",
    "for i in range(test_num):\n",
    "    test_Y[i] = train_data[i][0][0]\n",
    "\n",
    "# Encapsulate the data into Tensor\n",
    "train_X = torch.tensor(train_X,dtype=torch.float32).cuda()\n",
    "train_Y = torch.tensor(train_Y,dtype=torch.float32).cuda()\n",
    "test_X = torch.tensor(test_X,dtype=torch.float32).cuda()\n",
    "test_Y = torch.tensor(test_Y,dtype=torch.float32).cuda()\n",
    "print(train_X.shape)\n",
    "print('Finish Loading........')\n",
    "print('training data:',train_num,'test_data:',test_num)"
   ]
  },
  {
   "cell_type": "markdown",
   "metadata": {},
   "source": [
    "## Define CNN Network"
   ]
  },
  {
   "cell_type": "code",
   "execution_count": 6,
   "metadata": {},
   "outputs": [],
   "source": [
    "class CNN(nn.Module):\n",
    "    def __init__(self,input_size=CNN_input_dim, output_size=CNN_ouput_dim):\n",
    "        super(CNN, self).__init__()\n",
    "        self.conv1 = nn.Sequential(\n",
    "            # IN(1*10*4)\n",
    "            nn.Conv2d(\n",
    "                in_channels = input_size,\n",
    "                out_channels = 16,\n",
    "                kernel_size = 2,\n",
    "                stride = 1,\n",
    "            ),\n",
    "            # OUT(16*10*4)\n",
    "            # IN (16*10*4\n",
    "            nn.ReLU(),\n",
    "            # OUT(16*10*4\n",
    "            # IN(16*10*4\n",
    "            nn.AvgPool2d(kernel_size=2)\n",
    "            # OUT(16*5*2\n",
    "        )\n",
    "        self.conv2 = nn.Sequential(\n",
    "            # IN(16*5*2\n",
    "            nn.Conv2d(\n",
    "                in_channels = 16,\n",
    "                out_channels = 32,\n",
    "                kernel_size = 2,\n",
    "                stride = 1,\n",
    "                padding =2,\n",
    "            ),\n",
    "            # OUT(32*5*2\n",
    "            # IN(32*5*2\n",
    "            nn.ReLU(),\n",
    "            # OUT(32*5*2)\n",
    "            # IN(32*5*2\n",
    "            nn.AvgPool2d(2),\n",
    "            # OUT(32*3*2)\n",
    "        )\n",
    "        self.out = nn.Linear(32*3*2, output_size)\n",
    "    \n",
    "    def forward(self,x):\n",
    "        x = self.conv1(x)\n",
    "        x = self.conv2(x)\n",
    "        x = x.view(x.size(0), -1)\n",
    "        output = self.out(x)\n",
    "        return output"
   ]
  },
  {
   "cell_type": "code",
   "execution_count": 7,
   "metadata": {},
   "outputs": [
    {
     "name": "stdout",
     "output_type": "stream",
     "text": [
      "CNN(\n",
      "  (conv1): Sequential(\n",
      "    (0): Conv2d(1, 16, kernel_size=(2, 2), stride=(1, 1))\n",
      "    (1): ReLU()\n",
      "    (2): AvgPool2d(kernel_size=2, stride=2, padding=0)\n",
      "  )\n",
      "  (conv2): Sequential(\n",
      "    (0): Conv2d(16, 32, kernel_size=(2, 2), stride=(1, 1), padding=(2, 2))\n",
      "    (1): ReLU()\n",
      "    (2): AvgPool2d(kernel_size=2, stride=2, padding=0)\n",
      "  )\n",
      "  (out): Linear(in_features=192, out_features=4, bias=True)\n",
      ")\n"
     ]
    }
   ],
   "source": [
    "cnn = CNN().cuda()\n",
    "print(cnn)"
   ]
  },
  {
   "cell_type": "markdown",
   "metadata": {},
   "source": [
    "## Define optimizer and loss func"
   ]
  },
  {
   "cell_type": "code",
   "execution_count": 8,
   "metadata": {},
   "outputs": [],
   "source": [
    "optimizer = torch.optim.Adam(cnn.parameters(),lr=learning_rate)\n",
    "loss_function = nn.MSELoss()\n",
    "#loss_function = nn.CrossEntropyLoss()"
   ]
  },
  {
   "cell_type": "markdown",
   "metadata": {},
   "source": [
    "## Define training function"
   ]
  },
  {
   "cell_type": "code",
   "execution_count": 9,
   "metadata": {},
   "outputs": [],
   "source": [
    "\n",
    "def train_model(train_X, save_model_name):\n",
    "    losses = []\n",
    "    print(\"Training Start. Epochs=\", EPOCH)\n",
    "    for i in range(EPOCH):\n",
    "        output = cnn(train_X)\n",
    "        loss = loss_function(output, train_Y)\n",
    "        optimizer.zero_grad()\n",
    "        loss.backward()\n",
    "        optimizer.step()\n",
    "        losses.append(loss.item())\n",
    "        if (i+1) % 50 == 0:\n",
    "#             test_output = cnn(test_X)\n",
    "#             pred_y = torch.max(test_output,1)[1].cuda().data.squeeze()\n",
    "#             accuracy = sum(pred_y == test_Y) / test_y.size(0)\n",
    "#             print('Epoch', epoch, '|test accuracy|:%.4f'% accuracy)\n",
    "             print('Epoch:',i+1,'Loss:', loss.item())\n",
    "    \n",
    "    torch.save(cnn, model_save+save_model_name)\n",
    "    return loss.item(), losses\n",
    "\n",
    "def test_model(model_name, test_X):\n",
    "    # Load the trained model\n",
    "    load_cnn = torch.load(model_save+model_name)\n",
    "    # Forward the Test Data\n",
    "    test_output = load_cnn.forward(test_X)\n",
    "    # Calculate the loss\n",
    "    loss = loss_function(test_output, test_Y)\n",
    "\n",
    "    return test_output, loss.item()"
   ]
  },
  {
   "cell_type": "code",
   "execution_count": null,
   "metadata": {},
   "outputs": [],
   "source": [
    "if __name__ == '__main__':\n",
    "    model_name=product+'.pkl'\n",
    "    train_loss, losses = train_model(train_X, model_name)\n",
    "    "
   ]
  },
  {
   "cell_type": "code",
   "execution_count": 10,
   "metadata": {},
   "outputs": [
    {
     "name": "stdout",
     "output_type": "stream",
     "text": [
      "Train loss =  5.324787707650103e-06  Test loss =  5.510259597940603e-06\n"
     ]
    }
   ],
   "source": [
    "test_output, test_loss = test_model(product+'.pkl', test_X)\n",
    "print(\"Train loss = \", train_loss,\" Test loss = \", test_loss)"
   ]
  },
  {
   "cell_type": "code",
   "execution_count": null,
   "metadata": {},
   "outputs": [],
   "source": [
    "test_output, _ = test_model(model_name, test_X)\n",
    "test_output_plot = test_output.cpu().detach().numpy()\n",
    "test_y_plot = test_Y.cpu().detach().numpy()"
   ]
  },
  {
   "cell_type": "code",
   "execution_count": 14,
   "metadata": {},
   "outputs": [],
   "source": [
    "out = pd.DataFrame(test_output_plot)\n",
    "out.to_csv('CNN_Pred/'+product+'.csv',index=False)"
   ]
  }
 ],
 "metadata": {
  "kernelspec": {
   "display_name": "Python 3",
   "language": "python",
   "name": "python3"
  },
  "language_info": {
   "codemirror_mode": {
    "name": "ipython",
    "version": 3
   },
   "file_extension": ".py",
   "mimetype": "text/x-python",
   "name": "python",
   "nbconvert_exporter": "python",
   "pygments_lexer": "ipython3",
   "version": "3.7.6"
  }
 },
 "nbformat": 4,
 "nbformat_minor": 4
}
