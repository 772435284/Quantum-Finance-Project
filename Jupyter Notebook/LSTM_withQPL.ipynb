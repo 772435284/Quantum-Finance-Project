{
 "cells": [
  {
   "cell_type": "markdown",
   "metadata": {},
   "source": [
    "## Import Libiray"
   ]
  },
  {
   "cell_type": "code",
   "execution_count": 1,
   "metadata": {},
   "outputs": [],
   "source": [
    "import pandas as pd\n",
    "import numpy as np\n",
    "import math\n",
    "import torch\n",
    "import torch.nn as nn\n",
    "from torch.autograd import Variable\n",
    "import matplotlib.pyplot as plt\n",
    "import winsound"
   ]
  },
  {
   "cell_type": "markdown",
   "metadata": {},
   "source": [
    "## Define Parameters"
   ]
  },
  {
   "cell_type": "code",
   "execution_count": 2,
   "metadata": {},
   "outputs": [],
   "source": [
    "ts_data_add = 'CNN_Pred_QPL/'\n",
    "origin_data_save = 'TS_data/'\n",
    "model_add = 'lstm_model_save_QPL/'\n",
    "# header = ['Open','High','Low','Close','QPL1','QPL2','QPL3','QPL4','QPL5','QPL6','QPL7','QPL8','QPL9','QPL10',\n",
    "#                 'QPL11','QPL12','QPL13','QPL14','QPL15','QPL16','QPL17','QPL18','QPL19','QPL20','QPL21','QPL-1','QPL-2','QPL-3','QPL-4',\n",
    "#                  'QPL-5','QPL-6','QPL-7','QPL-8','QPL-9','QPL-10','QPL-11','QPL-12','QPL-13','QPL-14','QPL-15','QPL-16','QPL-17','QPL-18','QPL-19',\n",
    "#                  'QPL-20','QPL-21']\n",
    "\n",
    "window_size = 4      \n",
    "n_pred_days = 1    \n",
    "\n",
    "# Network Parameters\n",
    "input_dim = 4        \n",
    "output_dim = 2       \n",
    "n_layers = 2         \n",
    "n_hidden_size = 64   \n",
    "\n",
    "# Hyper parameters\n",
    "epochs = 1500        \n",
    "train_prop = 0.8\n",
    "learning_rate = 1e-2 #Learning rate\n",
    "\n",
    "duration = 1000  # millisecond\n",
    "freq = 440  # Hz"
   ]
  },
  {
   "cell_type": "markdown",
   "metadata": {},
   "source": [
    "## DataLoader"
   ]
  },
  {
   "cell_type": "code",
   "execution_count": 3,
   "metadata": {},
   "outputs": [
    {
     "name": "stdout",
     "output_type": "stream",
     "text": [
      "1597\n"
     ]
    },
    {
     "data": {
      "text/plain": [
       "array([[0.7407983 , 0.74394715, 0.7373952 , 0.74027354],\n",
       "       [0.73950666, 0.7426198 , 0.73612446, 0.73901874],\n",
       "       [0.7375046 , 0.740611  , 0.7341334 , 0.7370463 ],\n",
       "       ...,\n",
       "       [0.6695665 , 0.67286366, 0.66667885, 0.6698684 ],\n",
       "       [0.66669947, 0.67002326, 0.6638084 , 0.66702384],\n",
       "       [0.6726449 , 0.6759166 , 0.6697346 , 0.6729222 ]])"
      ]
     },
     "execution_count": 3,
     "metadata": {},
     "output_type": "execute_result"
    }
   ],
   "source": [
    "product = 'NZDCHF'\n",
    "ts_d = pd.read_csv(ts_data_add+product+'.csv')\n",
    "# Change Header\n",
    "\n",
    "#new_index = header\n",
    "#ts_d.columns = new_index\n",
    "ts_d = ts_d.dropna(axis=0,how='any')\n",
    "# ts_d = ts_d.drop(['QPL1','QPL2','QPL3','QPL4','QPL5','QPL6','QPL7','QPL8','QPL9','QPL10',\n",
    "#                 'QPL11','QPL12','QPL13','QPL14','QPL15','QPL16','QPL17','QPL18','QPL19','QPL20','QPL21','QPL-1','QPL-2','QPL-3','QPL-4',\n",
    "#                  'QPL-5','QPL-6','QPL-7','QPL-8','QPL-9','QPL-10','QPL-11','QPL-12','QPL-13','QPL-14','QPL-15','QPL-16','QPL-17','QPL-18','QPL-19',\n",
    "#                  'QPL-20','QPL-21'],axis=1)\n",
    "# Minimize the first three days\n",
    "n_samples = len(ts_d) - window_size+1\n",
    "print(n_samples)\n",
    "# data.shape: (len(ts_w)*4*4) \n",
    "data = np.zeros((len(ts_d), window_size, input_dim), dtype=float)\n",
    "\n",
    "ts_d_n = ts_d.iloc[:,:].values\n",
    "ts_d_n"
   ]
  },
  {
   "cell_type": "code",
   "execution_count": 4,
   "metadata": {},
   "outputs": [
    {
     "name": "stdout",
     "output_type": "stream",
     "text": [
      "Finish Loading........\n",
      "training data: 1597\n"
     ]
    }
   ],
   "source": [
    "# Generate Traing set\n",
    "for i in range(0, n_samples):\n",
    "    # Generate 4*4 temporary array\n",
    "    tmp = np.zeros((window_size, input_dim))\n",
    "    for j in range(i, i+window_size):\n",
    "        # i=0, j=0,1,2,3 \n",
    "        tmp[j-i]=ts_d_n[j]\n",
    "    # Fill data array\n",
    "    data[i] = tmp\n",
    "\n",
    "n_train_samples = n_samples\n",
    "train_data = data[0:n_train_samples]\n",
    "# Initialize the training matrices\n",
    "train_X = np.zeros((n_train_samples, window_size-n_pred_days, input_dim), dtype=float)\n",
    "train_Y = np.zeros((n_train_samples, output_dim), dtype=float)\n",
    "# Split 4*4 data into 3*4 and 1*2\n",
    "for i in range(n_train_samples):\n",
    "    train_X[i] = train_data[i][0:window_size-1]\n",
    "    for j in range(output_dim):\n",
    "        train_Y[i][j] = train_data[i][window_size-1][j+1]\n",
    "\n",
    "# Encapsulate the data into torch tensor\n",
    "train_X = torch.tensor(train_X,dtype=torch.float32).cuda()\n",
    "train_Y = torch.tensor(train_Y,dtype=torch.float32).cuda()\n",
    "\n",
    "\n",
    "print('Finish Loading........')\n",
    "print('training data:',n_train_samples)"
   ]
  },
  {
   "cell_type": "code",
   "execution_count": 5,
   "metadata": {},
   "outputs": [
    {
     "name": "stdout",
     "output_type": "stream",
     "text": [
      "1997\n"
     ]
    },
    {
     "data": {
      "text/plain": [
       "array([[0.73895, 0.73997, 0.7384 , 0.7394 ],\n",
       "       [0.73935, 0.74258, 0.73573, 0.73686],\n",
       "       [0.73685, 0.73905, 0.73577, 0.73701],\n",
       "       ...,\n",
       "       [0.58383, 0.59034, 0.58383, 0.58957],\n",
       "       [0.58957, 0.59069, 0.58448, 0.585  ],\n",
       "       [0.585  , 0.59362, 0.58466, 0.59311]])"
      ]
     },
     "execution_count": 5,
     "metadata": {},
     "output_type": "execute_result"
    }
   ],
   "source": [
    "ts_d = pd.read_csv(origin_data_save+product+'1440_Data.csv')\n",
    "# Change Header\n",
    "\n",
    "#new_index = header\n",
    "#ts_d.columns = new_index\n",
    "ts_d = ts_d.dropna(axis=0,how='any')\n",
    "ts_d = ts_d.drop(['Date','Year','Month','Day','Hour','Minute','Volume','RSI','MACD_M','MACD_S','STO_K','STO_D'],axis=1)\n",
    "# Minimize the first three days\n",
    "n_samples = len(ts_d) - window_size+1\n",
    "print(n_samples)\n",
    "# data.shape: (len(ts_w)*4*4) \n",
    "data = np.zeros((len(ts_d), window_size, input_dim), dtype=float)\n",
    "\n",
    "ts_d_n = ts_d.iloc[:,:].values\n",
    "ts_d_n"
   ]
  },
  {
   "cell_type": "code",
   "execution_count": 6,
   "metadata": {},
   "outputs": [
    {
     "name": "stdout",
     "output_type": "stream",
     "text": [
      "Finish Loading........\n",
      "test_data: 399\n"
     ]
    },
    {
     "data": {
      "text/plain": [
       "tensor([[[0.6732, 0.6802, 0.6719, 0.6793],\n",
       "         [0.6782, 0.6791, 0.6781, 0.6788],\n",
       "         [0.6788, 0.6819, 0.6768, 0.6776]],\n",
       "\n",
       "        [[0.6782, 0.6791, 0.6781, 0.6788],\n",
       "         [0.6788, 0.6819, 0.6768, 0.6776],\n",
       "         [0.6776, 0.6807, 0.6762, 0.6787]],\n",
       "\n",
       "        [[0.6788, 0.6819, 0.6768, 0.6776],\n",
       "         [0.6776, 0.6807, 0.6762, 0.6787],\n",
       "         [0.6787, 0.6871, 0.6786, 0.6853]],\n",
       "\n",
       "        ...,\n",
       "\n",
       "        [[0.5908, 0.5918, 0.5806, 0.5825],\n",
       "         [0.5817, 0.5824, 0.5799, 0.5801],\n",
       "         [0.5801, 0.5846, 0.5786, 0.5838]],\n",
       "\n",
       "        [[0.5817, 0.5824, 0.5799, 0.5801],\n",
       "         [0.5801, 0.5846, 0.5786, 0.5838],\n",
       "         [0.5838, 0.5903, 0.5838, 0.5896]],\n",
       "\n",
       "        [[0.5801, 0.5846, 0.5786, 0.5838],\n",
       "         [0.5838, 0.5903, 0.5838, 0.5896],\n",
       "         [0.5896, 0.5907, 0.5845, 0.5850]]], device='cuda:0')"
      ]
     },
     "execution_count": 6,
     "metadata": {},
     "output_type": "execute_result"
    }
   ],
   "source": [
    "# Generate Test set\n",
    "for i in range(0, n_samples):\n",
    "    # Generate 4*4 temporary array\n",
    "    tmp = np.zeros((window_size, input_dim))\n",
    "    for j in range(i, i+window_size):\n",
    "        # i=0, j=0,1,2,3 \n",
    "        tmp[j-i]=ts_d_n[j]\n",
    "    # Fill data array\n",
    "    data[i] = tmp\n",
    "n_train_samples = math.ceil(train_prop*n_samples)\n",
    "n_test_samples = n_samples-n_train_samples\n",
    "\n",
    "test_data = data[n_train_samples: n_samples]\n",
    "\n",
    "test_X = np.zeros((n_test_samples, window_size-n_pred_days, input_dim), dtype=float)\n",
    "test_Y = np.zeros((n_test_samples, output_dim), dtype=float)\n",
    "\n",
    "for i in range(n_test_samples):\n",
    "    test_X[i] = test_data[i][0:window_size-1]\n",
    "    for j in range(output_dim):\n",
    "        test_Y[i][j] = test_data[i][window_size-1][j+1]\n",
    "\n",
    "\n",
    "test_X = torch.tensor(test_X,dtype=torch.float32).cuda()\n",
    "test_Y = torch.tensor(test_Y,dtype=torch.float32).cuda()\n",
    "\n",
    "print('Finish Loading........')\n",
    "print('test_data:',n_test_samples)\n",
    "test_X"
   ]
  },
  {
   "cell_type": "markdown",
   "metadata": {},
   "source": [
    "## Define LSTM Network"
   ]
  },
  {
   "cell_type": "code",
   "execution_count": 7,
   "metadata": {},
   "outputs": [],
   "source": [
    "class LSTM(nn.Module): # extend nn.Module\n",
    "    # Define the LSTM network\n",
    "    def __init__(self,input_size,hidden_size, output_size=output_dim,num_layers=2):\n",
    "        super(LSTM,self).__init__()\n",
    "        self.input_size = input_size\n",
    "        self.hidden_size = hidden_size\n",
    "        # LSTM layer\n",
    "        self.lstm = nn.LSTM(input_size,hidden_size,num_layers)\n",
    "        self.fc = nn.Linear(hidden_size*(window_size-n_pred_days),output_size)\n",
    "        self.batch_first = True\n",
    "\n",
    "    def forward(self,x): # x: input\n",
    "        # Only get the result， no hidden state\n",
    "        lstm_out, _ = self.lstm(x)\n",
    "        # get the index of hidden state\n",
    "        batch_n,win_s,hidden_s = lstm_out.shape\n",
    "        # Flatten to 2D: s*b rows and h cols\n",
    "        fc_in = lstm_out.view(batch_n, win_s*hidden_s)\n",
    "        fc_out = self.fc(fc_in)\n",
    "        output = fc_out.view(batch_n,2)\n",
    "        return output\n"
   ]
  },
  {
   "cell_type": "code",
   "execution_count": 8,
   "metadata": {},
   "outputs": [
    {
     "name": "stdout",
     "output_type": "stream",
     "text": [
      "LSTM(\n",
      "  (lstm): LSTM(4, 64, num_layers=2)\n",
      "  (fc): Linear(in_features=192, out_features=2, bias=True)\n",
      ")\n"
     ]
    }
   ],
   "source": [
    "lstm = LSTM(input_size=input_dim, hidden_size=n_hidden_size).cuda()\n",
    "print(lstm)"
   ]
  },
  {
   "cell_type": "code",
   "execution_count": 9,
   "metadata": {},
   "outputs": [],
   "source": [
    "optimizer = torch.optim.Adam(lstm.parameters(), lr=learning_rate)\n",
    "loss_function = nn.MSELoss()"
   ]
  },
  {
   "cell_type": "code",
   "execution_count": 10,
   "metadata": {},
   "outputs": [],
   "source": [
    "record_period = 50\n",
    "\n",
    "def RMSELoss(yhat,y):\n",
    "    return torch.sqrt(torch.mean((yhat-y)**2))\n",
    "\n",
    "def train_model(train_X, save_model_name):\n",
    "    losses = []\n",
    "    losses2 = []\n",
    "    print(\"Training Start. Epochs = \", epochs)\n",
    "    for i in range(epochs):\n",
    "        output = lstm(train_X)\n",
    "        loss = loss_function(output, train_Y)\n",
    "        loss2 = RMSELoss(output,train_Y)\n",
    "        optimizer.zero_grad()\n",
    "        loss.backward()\n",
    "        optimizer.step()\n",
    "        losses.append(loss.item())\n",
    "        losses2.append(loss2.item())\n",
    "        if i ==1499:\n",
    "            winsound.Beep(freq, duration)\n",
    "        if (i+1) % record_period == 0:\n",
    "            print('Epoch: {}, Loss:{:.10f}'.format(i+1, loss.item()))\n",
    "            \n",
    "    torch.save(lstm, model_add+save_model_name)\n",
    "    return loss.item(), losses,loss2.item()\n",
    "\n"
   ]
  },
  {
   "cell_type": "code",
   "execution_count": 11,
   "metadata": {},
   "outputs": [],
   "source": [
    "def test_model(model_name, test_X):\n",
    "    # Load the trained model\n",
    "    lstm64 = torch.load(model_add+model_name)\n",
    "    # Forward the test data\n",
    "    test_output = lstm64.forward(test_X)\n",
    "    # Calculate the loss\n",
    "    loss = loss_function(test_output, test_Y)\n",
    "    loss2 = RMSELoss(test_output,test_Y)\n",
    "\n",
    "    return test_output, loss.item(),loss2.item()\n",
    "\n"
   ]
  },
  {
   "cell_type": "code",
   "execution_count": null,
   "metadata": {
    "scrolled": true
   },
   "outputs": [],
   "source": [
    "if __name__ == '__main__':\n",
    "    model_name=product+'.pkl'\n",
    "    train_MSE, losses,train_RMSE = train_model(train_X, model_name)"
   ]
  },
  {
   "cell_type": "code",
   "execution_count": 45,
   "metadata": {},
   "outputs": [
    {
     "name": "stdout",
     "output_type": "stream",
     "text": [
      "Train MSE  2.9288121368153952e-05 ;test MSE  3.11149560729973e-05 ;Train RMSE 0.005411850288510323 test RMSE 0.005578078329563141\n"
     ]
    }
   ],
   "source": [
    "test_output, test_MSE, test_RMSE = test_model(model_name, test_X)\n",
    "\n",
    "print(\"Train MSE \", train_MSE,\";test MSE \", test_MSE,\";Train RMSE\",train_RMSE,\"test RMSE\",test_RMSE)\n"
   ]
  },
  {
   "cell_type": "code",
   "execution_count": 13,
   "metadata": {
    "scrolled": true
   },
   "outputs": [],
   "source": [
    "test_output, _, _ = test_model(model_name, test_X)\n",
    "test_output_plot = test_output.cpu().detach().numpy()\n",
    "test_y_plot = test_Y.cpu().detach().numpy()"
   ]
  },
  {
   "cell_type": "code",
   "execution_count": 48,
   "metadata": {},
   "outputs": [],
   "source": [
    "out = pd.DataFrame(test_output_plot)\n",
    "out.to_csv('TS_data_Pred_QPL/'+product+'.csv',index=False)"
   ]
  },
  {
   "cell_type": "code",
   "execution_count": null,
   "metadata": {},
   "outputs": [],
   "source": []
  },
  {
   "cell_type": "code",
   "execution_count": null,
   "metadata": {},
   "outputs": [],
   "source": []
  },
  {
   "cell_type": "code",
   "execution_count": null,
   "metadata": {},
   "outputs": [],
   "source": []
  }
 ],
 "metadata": {
  "kernelspec": {
   "display_name": "Python 3",
   "language": "python",
   "name": "python3"
  },
  "language_info": {
   "codemirror_mode": {
    "name": "ipython",
    "version": 3
   },
   "file_extension": ".py",
   "mimetype": "text/x-python",
   "name": "python",
   "nbconvert_exporter": "python",
   "pygments_lexer": "ipython3",
   "version": "3.7.6"
  }
 },
 "nbformat": 4,
 "nbformat_minor": 4
}
